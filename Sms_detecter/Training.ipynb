{
 "cells": [
  {
   "cell_type": "code",
   "execution_count": 43,
   "id": "879b5175",
   "metadata": {},
   "outputs": [],
   "source": [
    "import pandas as pd\n",
    "from sklearn.model_selection import train_test_split\n",
    "from sklearn.feature_extraction.text import TfidfVectorizer"
   ]
  },
  {
   "cell_type": "code",
   "execution_count": 122,
   "id": "00910fc6",
   "metadata": {},
   "outputs": [
    {
     "name": "stdout",
     "output_type": "stream",
     "text": [
      "                                                 Msg Label\n",
      "0  CONGRATULATIONS! FREE 2GB data is yours! Claim...  spam\n",
      "1  Hi! Thank you for being with Vi-India's FASTES...  spam\n",
      "2  As part of Cyber Swachhta Pakhwada, CERT-In Go...  spam\n",
      "3                  I will try to manage took tablets   ham\n",
      "4  Study from Home with Vi!! Watch Kite Victers C...  spam\n",
      "['spam' 'ham']\n",
      "Label\n",
      "0    1522\n",
      "1     745\n",
      "Name: count, dtype: int64\n",
      "                                                 Msg  Label\n",
      "0  CONGRATULATIONS! FREE 2GB data is yours! Claim...      1\n",
      "1  Hi! Thank you for being with Vi-India's FASTES...      1\n",
      "2  As part of Cyber Swachhta Pakhwada, CERT-In Go...      1\n",
      "3                  I will try to manage took tablets      0\n",
      "4  Study from Home with Vi!! Watch Kite Victers C...      1\n"
     ]
    }
   ],
   "source": [
    "import pandas as pd\n",
    "\n",
    "# Load dataset\n",
    "df = pd.read_csv('https://raw.githubusercontent.com/junioralive/india-spam-sms-classification/main/dataset/spam_ham_india.csv')\n",
    "\n",
    "# Check raw data\n",
    "print(df.head())\n",
    "print(df['Label'].unique())\n",
    "\n",
    "# Remove leading/trailing spaces and lowercase\n",
    "df['Label'] = df['Label'].str.strip().str.lower()\n",
    "\n",
    "# Map to 0 and 1\n",
    "df['Label'] = df['Label'].map({'ham': 0, 'spam': 1})\n",
    "\n",
    "# Drop NaN (if mapping failed for any label)\n",
    "df = df.dropna(subset=['Label'])\n",
    "\n",
    "# Ensure integer type\n",
    "df['Label'] = df['Label'].astype(int)\n",
    "\n",
    "print(df['Label'].value_counts())\n",
    "print(df.head())\n"
   ]
  },
  {
   "cell_type": "code",
   "execution_count": 123,
   "id": "09eafdf8",
   "metadata": {},
   "outputs": [],
   "source": [
    "#Splitting the data\n",
    "X_train, X_test,Y_train,Y_test  = train_test_split(df['Msg'],df['Label'],test_size=0.2,random_state=1)"
   ]
  },
  {
   "cell_type": "code",
   "execution_count": 125,
   "id": "e6efae70",
   "metadata": {},
   "outputs": [],
   "source": [
    "    # # TF-IDF vectorization\n",
    "    # vectorizer = TfidfVectorizer(stop_words='english', max_df=0.7)\n",
    "    # X_train_tfidf = vectorizer.fit_transform(X_train)\n",
    "    # X_test_tfidf = vectorizer.transform(X_test)\n",
    "\n",
    "import pandas as pd\n",
    "from sklearn.model_selection import train_test_split\n",
    "from sklearn.feature_extraction.text import TfidfVectorizer\n",
    "\n",
    "# Load dataset\n",
    "df = pd.read_csv('https://raw.githubusercontent.com/junioralive/india-spam-sms-classification/main/dataset/spam_ham_india.csv')\n",
    "\n",
    "# Clean labels\n",
    "df['Label'] = df['Label'].str.strip().str.lower()\n",
    "df['Label'] = df['Label'].map({'ham': 0, 'spam': 1})\n",
    "df = df.dropna(subset=['Label'])  # remove rows where label wasn't ham or spam\n",
    "df['Label'] = df['Label'].astype(int)\n",
    "\n",
    "# Remove rows where Msg is NaN\n",
    "df = df.dropna(subset=['Msg'])\n",
    "\n",
    "# Ensure Msg is string\n",
    "df['Msg'] = df['Msg'].astype(str)\n",
    "\n",
    "# Split data\n",
    "X_train, X_test, y_train, y_test = train_test_split(\n",
    "    df['Msg'], df['Label'], test_size=0.2, random_state=42\n",
    ")\n",
    "\n",
    "# TF-IDF vectorization\n",
    "vectorizer = TfidfVectorizer(stop_words='english', max_df=0.7)\n",
    "X_train_tfidf = vectorizer.fit_transform(X_train)\n",
    "X_test_tfidf = vectorizer.transform(X_test)\n",
    "\n",
    "\n",
    "\n"
   ]
  },
  {
   "cell_type": "code",
   "execution_count": 126,
   "id": "44631559",
   "metadata": {},
   "outputs": [
    {
     "name": "stdout",
     "output_type": "stream",
     "text": [
      "Msg      0\n",
      "Label    0\n",
      "dtype: int64\n"
     ]
    }
   ],
   "source": [
    "print(df.isnull().sum())"
   ]
  },
  {
   "cell_type": "code",
   "execution_count": 128,
   "id": "459ecc85",
   "metadata": {},
   "outputs": [],
   "source": [
    "import pandas as pd\n",
    "from sklearn.model_selection import train_test_split\n",
    "from sklearn.feature_extraction.text import TfidfVectorizer\n",
    "from sklearn.linear_model import LogisticRegression\n",
    "from sklearn.metrics import accuracy_score\n",
    "\n",
    "# Load dataset\n",
    "df = pd.read_csv(\n",
    "    'https://raw.githubusercontent.com/junioralive/india-spam-sms-classification/main/dataset/spam_ham_india.csv'\n",
    ")\n",
    "\n",
    "# Standardize labels\n",
    "df['Label'] = df['Label'].str.strip().str.lower().map({'ham': 0, 'spam': 1})\n",
    "\n",
    "# Drop rows with missing Msg or Label\n",
    "df = df.dropna(subset=['Msg', 'Label'])\n",
    "\n",
    "# Convert Msg to string\n",
    "df['Msg'] = df['Msg'].astype(str)\n",
    "df['Label'] = df['Label'].astype(int)\n"
   ]
  },
  {
   "cell_type": "markdown",
   "id": "52361f2a",
   "metadata": {},
   "source": []
  },
  {
   "cell_type": "code",
   "execution_count": 129,
   "id": "c27f1912",
   "metadata": {},
   "outputs": [],
   "source": [
    "# Now split — both will have same length\n",
    "X_train, X_test, y_train, y_test = train_test_split(\n",
    "    df['Msg'], df['Label'], test_size=0.2, random_state=42\n",
    ")\n",
    "\n",
    "# TF-IDF vectorization\n",
    "vectorizer = TfidfVectorizer(stop_words='english', max_df=0.7)\n",
    "X_train_tfidf = vectorizer.fit_transform(X_train)\n",
    "X_test_tfidf = vectorizer.transform(X_test)\n"
   ]
  },
  {
   "cell_type": "code",
   "execution_count": 130,
   "id": "9386595f",
   "metadata": {},
   "outputs": [
    {
     "name": "stdout",
     "output_type": "stream",
     "text": [
      "Accuracy: 0.973568281938326\n"
     ]
    }
   ],
   "source": [
    "# Train model\n",
    "model = LogisticRegression()\n",
    "model.fit(X_train_tfidf, y_train)\n",
    "\n",
    "# Predictions\n",
    "y_pred = model.predict(X_test_tfidf)\n",
    "print(\"Accuracy:\", accuracy_score(y_test, y_pred))"
   ]
  },
  {
   "cell_type": "code",
   "execution_count": 131,
   "id": "4ad65cb2",
   "metadata": {},
   "outputs": [],
   "source": [
    "import pickle \n",
    "filename = 'Indian_Spam_Model.pkl'\n",
    "pickle.dump(model, open(filename, \"wb\"))\n",
    "pickle.dump(vectorizer, open(\"vectorizer.pkl\", \"wb\"))"
   ]
  },
  {
   "cell_type": "code",
   "execution_count": 70,
   "id": "a6ef3b8d",
   "metadata": {},
   "outputs": [
    {
     "name": "stdout",
     "output_type": "stream",
     "text": [
      "True\n"
     ]
    }
   ],
   "source": [
    "import os\n",
    "print(os.path.exists(\"predicter.pkl\"))  # Should be True\n"
   ]
  }
 ],
 "metadata": {
  "kernelspec": {
   "display_name": "base",
   "language": "python",
   "name": "python3"
  },
  "language_info": {
   "codemirror_mode": {
    "name": "ipython",
    "version": 3
   },
   "file_extension": ".py",
   "mimetype": "text/x-python",
   "name": "python",
   "nbconvert_exporter": "python",
   "pygments_lexer": "ipython3",
   "version": "3.12.9"
  }
 },
 "nbformat": 4,
 "nbformat_minor": 5
}
